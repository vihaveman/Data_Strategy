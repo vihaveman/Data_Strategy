{
 "cells": [
  {
   "cell_type": "markdown",
   "id": "14cc6aad",
   "metadata": {},
   "source": [
    "### Import Dependancies"
   ]
  },
  {
   "cell_type": "code",
   "execution_count": 1,
   "id": "3f47b06e",
   "metadata": {},
   "outputs": [],
   "source": [
    "import pandas as pd\n",
    "import os\n",
    "import numpy as np"
   ]
  },
  {
   "cell_type": "code",
   "execution_count": 4,
   "id": "21f38fe9",
   "metadata": {},
   "outputs": [
    {
     "data": {
      "text/html": [
       "<div>\n",
       "<style scoped>\n",
       "    .dataframe tbody tr th:only-of-type {\n",
       "        vertical-align: middle;\n",
       "    }\n",
       "\n",
       "    .dataframe tbody tr th {\n",
       "        vertical-align: top;\n",
       "    }\n",
       "\n",
       "    .dataframe thead th {\n",
       "        text-align: right;\n",
       "    }\n",
       "</style>\n",
       "<table border=\"1\" class=\"dataframe\">\n",
       "  <thead>\n",
       "    <tr style=\"text-align: right;\">\n",
       "      <th></th>\n",
       "      <th>Department</th>\n",
       "      <th>Year of Service</th>\n",
       "      <th>YrsEducation</th>\n",
       "      <th>Age</th>\n",
       "      <th>Gender</th>\n",
       "      <th>College Grad</th>\n",
       "      <th>Local</th>\n",
       "      <th>Satisfaction</th>\n",
       "    </tr>\n",
       "  </thead>\n",
       "  <tbody>\n",
       "    <tr>\n",
       "      <th>0</th>\n",
       "      <td>Finance &amp; Purchasing</td>\n",
       "      <td>3.0</td>\n",
       "      <td>14</td>\n",
       "      <td>52</td>\n",
       "      <td>F</td>\n",
       "      <td>False</td>\n",
       "      <td>True</td>\n",
       "      <td>3.39</td>\n",
       "    </tr>\n",
       "    <tr>\n",
       "      <th>1</th>\n",
       "      <td>Finance &amp; Purchasing</td>\n",
       "      <td>6.7</td>\n",
       "      <td>13</td>\n",
       "      <td>22</td>\n",
       "      <td>M</td>\n",
       "      <td>True</td>\n",
       "      <td>True</td>\n",
       "      <td>3.43</td>\n",
       "    </tr>\n",
       "    <tr>\n",
       "      <th>2</th>\n",
       "      <td>Finance &amp; Purchasing</td>\n",
       "      <td>24.8</td>\n",
       "      <td>17</td>\n",
       "      <td>27</td>\n",
       "      <td>M</td>\n",
       "      <td>False</td>\n",
       "      <td>False</td>\n",
       "      <td>4.55</td>\n",
       "    </tr>\n",
       "    <tr>\n",
       "      <th>3</th>\n",
       "      <td>Finance &amp; Purchasing</td>\n",
       "      <td>18.1</td>\n",
       "      <td>15</td>\n",
       "      <td>47</td>\n",
       "      <td>F</td>\n",
       "      <td>False</td>\n",
       "      <td>False</td>\n",
       "      <td>4.27</td>\n",
       "    </tr>\n",
       "    <tr>\n",
       "      <th>4</th>\n",
       "      <td>Finance &amp; Purchasing</td>\n",
       "      <td>22.2</td>\n",
       "      <td>15</td>\n",
       "      <td>18</td>\n",
       "      <td>F</td>\n",
       "      <td>True</td>\n",
       "      <td>True</td>\n",
       "      <td>2.57</td>\n",
       "    </tr>\n",
       "  </tbody>\n",
       "</table>\n",
       "</div>"
      ],
      "text/plain": [
       "              Department  Year of Service  YrsEducation  Age Gender  \\\n",
       "0  Finance & Purchasing               3.0            14   52      F   \n",
       "1  Finance & Purchasing               6.7            13   22      M   \n",
       "2  Finance & Purchasing              24.8            17   27      M   \n",
       "3  Finance & Purchasing              18.1            15   47      F   \n",
       "4  Finance & Purchasing              22.2            15   18      F   \n",
       "\n",
       "   College Grad  Local  Satisfaction  \n",
       "0         False   True          3.39  \n",
       "1          True   True          3.43  \n",
       "2         False  False          4.55  \n",
       "3         False  False          4.27  \n",
       "4          True   True          2.57  "
      ]
     },
     "execution_count": 4,
     "metadata": {},
     "output_type": "execute_result"
    }
   ],
   "source": [
    "# Import Data \n",
    "employee = \"Resources/Employee.csv\"\n",
    "\n",
    "# Read data into Pandas DataFrames\n",
    "employee_df = pd.read_csv(employee)\n",
    "employee_df.head()"
   ]
  },
  {
   "cell_type": "markdown",
   "id": "e8971807",
   "metadata": {},
   "source": [
    "### Clean Data¶"
   ]
  },
  {
   "cell_type": "code",
   "execution_count": 5,
   "id": "6207e92b",
   "metadata": {},
   "outputs": [
    {
     "data": {
      "text/html": [
       "<div>\n",
       "<style scoped>\n",
       "    .dataframe tbody tr th:only-of-type {\n",
       "        vertical-align: middle;\n",
       "    }\n",
       "\n",
       "    .dataframe tbody tr th {\n",
       "        vertical-align: top;\n",
       "    }\n",
       "\n",
       "    .dataframe thead th {\n",
       "        text-align: right;\n",
       "    }\n",
       "</style>\n",
       "<table border=\"1\" class=\"dataframe\">\n",
       "  <thead>\n",
       "    <tr style=\"text-align: right;\">\n",
       "      <th></th>\n",
       "      <th>Department</th>\n",
       "      <th>Year of Service</th>\n",
       "      <th>YrsEducation</th>\n",
       "      <th>Age</th>\n",
       "      <th>Gender</th>\n",
       "      <th>College Grad</th>\n",
       "      <th>Local</th>\n",
       "      <th>Satisfaction</th>\n",
       "    </tr>\n",
       "  </thead>\n",
       "  <tbody>\n",
       "    <tr>\n",
       "      <th>0</th>\n",
       "      <td>Finance &amp; Purchasing</td>\n",
       "      <td>3.0</td>\n",
       "      <td>14</td>\n",
       "      <td>52</td>\n",
       "      <td>F</td>\n",
       "      <td>False</td>\n",
       "      <td>True</td>\n",
       "      <td>3.39</td>\n",
       "    </tr>\n",
       "    <tr>\n",
       "      <th>1</th>\n",
       "      <td>Finance &amp; Purchasing</td>\n",
       "      <td>6.7</td>\n",
       "      <td>13</td>\n",
       "      <td>22</td>\n",
       "      <td>M</td>\n",
       "      <td>True</td>\n",
       "      <td>True</td>\n",
       "      <td>3.43</td>\n",
       "    </tr>\n",
       "    <tr>\n",
       "      <th>2</th>\n",
       "      <td>Finance &amp; Purchasing</td>\n",
       "      <td>24.8</td>\n",
       "      <td>17</td>\n",
       "      <td>27</td>\n",
       "      <td>M</td>\n",
       "      <td>False</td>\n",
       "      <td>False</td>\n",
       "      <td>4.55</td>\n",
       "    </tr>\n",
       "    <tr>\n",
       "      <th>3</th>\n",
       "      <td>Finance &amp; Purchasing</td>\n",
       "      <td>18.1</td>\n",
       "      <td>15</td>\n",
       "      <td>47</td>\n",
       "      <td>F</td>\n",
       "      <td>False</td>\n",
       "      <td>False</td>\n",
       "      <td>4.27</td>\n",
       "    </tr>\n",
       "    <tr>\n",
       "      <th>4</th>\n",
       "      <td>Finance &amp; Purchasing</td>\n",
       "      <td>22.2</td>\n",
       "      <td>15</td>\n",
       "      <td>18</td>\n",
       "      <td>F</td>\n",
       "      <td>True</td>\n",
       "      <td>True</td>\n",
       "      <td>2.57</td>\n",
       "    </tr>\n",
       "  </tbody>\n",
       "</table>\n",
       "</div>"
      ],
      "text/plain": [
       "              Department  Year of Service  YrsEducation  Age Gender  \\\n",
       "0  Finance & Purchasing               3.0            14   52      F   \n",
       "1  Finance & Purchasing               6.7            13   22      M   \n",
       "2  Finance & Purchasing              24.8            17   27      M   \n",
       "3  Finance & Purchasing              18.1            15   47      F   \n",
       "4  Finance & Purchasing              22.2            15   18      F   \n",
       "\n",
       "   College Grad  Local  Satisfaction  \n",
       "0         False   True          3.39  \n",
       "1          True   True          3.43  \n",
       "2         False  False          4.55  \n",
       "3         False  False          4.27  \n",
       "4          True   True          2.57  "
      ]
     },
     "execution_count": 5,
     "metadata": {},
     "output_type": "execute_result"
    }
   ],
   "source": [
    "#Round Null Values \n",
    "employee_df = employee_df.dropna()\n",
    "employee_df.head()"
   ]
  },
  {
   "cell_type": "code",
   "execution_count": 6,
   "id": "960f5430",
   "metadata": {},
   "outputs": [
    {
     "ename": "NameError",
     "evalue": "name 'sales_df' is not defined",
     "output_type": "error",
     "traceback": [
      "\u001b[0;31m---------------------------------------------------------------------------\u001b[0m",
      "\u001b[0;31mNameError\u001b[0m                                 Traceback (most recent call last)",
      "\u001b[0;32m/var/folders/m5/brfvh_t5127_1jcnr6zjqtq00000gn/T/ipykernel_55306/1902105622.py\u001b[0m in \u001b[0;36m<module>\u001b[0;34m\u001b[0m\n\u001b[1;32m      1\u001b[0m \u001b[0;31m# Round Volume to nearest 100\u001b[0m\u001b[0;34m\u001b[0m\u001b[0;34m\u001b[0m\u001b[0m\n\u001b[0;32m----> 2\u001b[0;31m \u001b[0msales_df\u001b[0m\u001b[0;34m[\u001b[0m\u001b[0;34m'Total'\u001b[0m\u001b[0;34m]\u001b[0m \u001b[0;34m=\u001b[0m \u001b[0;34m(\u001b[0m\u001b[0msales_df\u001b[0m\u001b[0;34m[\u001b[0m\u001b[0;34m'Total'\u001b[0m\u001b[0;34m]\u001b[0m \u001b[0;34m/\u001b[0m \u001b[0;36m100\u001b[0m\u001b[0;34m)\u001b[0m\u001b[0;34m.\u001b[0m\u001b[0mround\u001b[0m\u001b[0;34m(\u001b[0m\u001b[0;34m)\u001b[0m \u001b[0;34m*\u001b[0m \u001b[0;36m100\u001b[0m\u001b[0;34m\u001b[0m\u001b[0;34m\u001b[0m\u001b[0m\n\u001b[0m\u001b[1;32m      3\u001b[0m \u001b[0msales_df\u001b[0m\u001b[0;34m.\u001b[0m\u001b[0mhead\u001b[0m\u001b[0;34m(\u001b[0m\u001b[0;34m)\u001b[0m\u001b[0;34m\u001b[0m\u001b[0;34m\u001b[0m\u001b[0m\n",
      "\u001b[0;31mNameError\u001b[0m: name 'sales_df' is not defined"
     ]
    }
   ],
   "source": [
    "# Round Volume to nearest 100\n",
    "sales_df['Total'] = (sales_df['Total'] / 100).round() * 100\n",
    "sales_df.head()"
   ]
  },
  {
   "cell_type": "code",
   "execution_count": null,
   "id": "49a6c1b8",
   "metadata": {},
   "outputs": [],
   "source": [
    "production_df.to_csv('Product Cost Per Unit.csv', index=False)"
   ]
  },
  {
   "cell_type": "code",
   "execution_count": null,
   "id": "6bc26eab",
   "metadata": {},
   "outputs": [],
   "source": []
  }
 ],
 "metadata": {
  "kernelspec": {
   "display_name": "Python 3 (ipykernel)",
   "language": "python",
   "name": "python3"
  },
  "language_info": {
   "codemirror_mode": {
    "name": "ipython",
    "version": 3
   },
   "file_extension": ".py",
   "mimetype": "text/x-python",
   "name": "python",
   "nbconvert_exporter": "python",
   "pygments_lexer": "ipython3",
   "version": "3.9.13"
  }
 },
 "nbformat": 4,
 "nbformat_minor": 5
}
